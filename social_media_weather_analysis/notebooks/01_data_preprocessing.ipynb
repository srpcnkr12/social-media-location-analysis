{
 "cells": [
  {
   "cell_type": "code",
   "execution_count": 1,
   "metadata": {
    "vscode": {
     "languageId": "plaintext"
    }
   },
   "outputs": [],
   "source": [
    "# Import necessary functions\n",
    "import sys\n",
    "sys.path.append('../scripts')\n",
    "\n",
    "from data_preprocessing import load_instagram_data, load_tiktok_data, load_weather_data, merge_data"
   ]
  },
  {
   "cell_type": "code",
   "execution_count": 2,
   "metadata": {
    "vscode": {
     "languageId": "plaintext"
    }
   },
   "outputs": [],
   "source": [
    "# File paths\n",
    "instagram_comments_path = \"../data/liked_comments.json\"\n",
    "instagram_posts_path = \"../data/liked_posts.json\"\n",
    "tiktok_data_path = \"../data/user_data_tiktok.json\"\n",
    "weather_data_path = \"../data/istanbul_2024_weather.csv\""
   ]
  },
  {
   "cell_type": "code",
   "execution_count": 3,
   "metadata": {
    "vscode": {
     "languageId": "plaintext"
    }
   },
   "outputs": [],
   "source": [
    "# Load data\n",
    "instagram_comments, instagram_posts = load_instagram_data(instagram_comments_path, instagram_posts_path)\n",
    "tiktok_comments, tiktok_favorites = load_tiktok_data(tiktok_data_path)\n",
    "weather_df = load_weather_data(weather_data_path)"
   ]
  },
  {
   "cell_type": "code",
   "execution_count": 4,
   "metadata": {
    "vscode": {
     "languageId": "plaintext"
    }
   },
   "outputs": [],
   "source": [
    "# Merge datasets\n",
    "merged_df = merge_data(instagram_comments, instagram_posts, tiktok_comments, tiktok_favorites, weather_df)"
   ]
  },
  {
   "cell_type": "code",
   "execution_count": 5,
   "metadata": {
    "vscode": {
     "languageId": "plaintext"
    }
   },
   "outputs": [
    {
     "data": {
      "text/html": [
       "<div>\n",
       "<style scoped>\n",
       "    .dataframe tbody tr th:only-of-type {\n",
       "        vertical-align: middle;\n",
       "    }\n",
       "\n",
       "    .dataframe tbody tr th {\n",
       "        vertical-align: top;\n",
       "    }\n",
       "\n",
       "    .dataframe thead th {\n",
       "        text-align: right;\n",
       "    }\n",
       "</style>\n",
       "<table border=\"1\" class=\"dataframe\">\n",
       "  <thead>\n",
       "    <tr style=\"text-align: right;\">\n",
       "      <th></th>\n",
       "      <th>platform</th>\n",
       "      <th>interaction</th>\n",
       "      <th>timestamp</th>\n",
       "      <th>date</th>\n",
       "      <th>name</th>\n",
       "      <th>datetime</th>\n",
       "      <th>tempmax</th>\n",
       "      <th>tempmin</th>\n",
       "      <th>temp</th>\n",
       "      <th>feelslikemax</th>\n",
       "      <th>...</th>\n",
       "      <th>solarenergy</th>\n",
       "      <th>uvindex</th>\n",
       "      <th>severerisk</th>\n",
       "      <th>sunrise</th>\n",
       "      <th>sunset</th>\n",
       "      <th>moonphase</th>\n",
       "      <th>conditions</th>\n",
       "      <th>description</th>\n",
       "      <th>icon</th>\n",
       "      <th>stations</th>\n",
       "    </tr>\n",
       "  </thead>\n",
       "  <tbody>\n",
       "    <tr>\n",
       "      <th>0</th>\n",
       "      <td>Instagram</td>\n",
       "      <td>Liked Comment</td>\n",
       "      <td>2024-12-31 16:01:00</td>\n",
       "      <td>2024-12-31</td>\n",
       "      <td>istanbul</td>\n",
       "      <td>2024-12-31</td>\n",
       "      <td>9.8</td>\n",
       "      <td>4.4</td>\n",
       "      <td>6.8</td>\n",
       "      <td>9.3</td>\n",
       "      <td>...</td>\n",
       "      <td>3.1</td>\n",
       "      <td>3.0</td>\n",
       "      <td>NaN</td>\n",
       "      <td>2024-12-31T08:29:12</td>\n",
       "      <td>2024-12-31T17:45:29</td>\n",
       "      <td>0.00</td>\n",
       "      <td>Partially cloudy</td>\n",
       "      <td>Partly cloudy throughout the day.</td>\n",
       "      <td>partly-cloudy-day</td>\n",
       "      <td>D8508,LTBA,17063099999,17119099999,17061099999...</td>\n",
       "    </tr>\n",
       "    <tr>\n",
       "      <th>1</th>\n",
       "      <td>Instagram</td>\n",
       "      <td>Liked Comment</td>\n",
       "      <td>2024-12-31 11:03:24</td>\n",
       "      <td>2024-12-31</td>\n",
       "      <td>istanbul</td>\n",
       "      <td>2024-12-31</td>\n",
       "      <td>9.8</td>\n",
       "      <td>4.4</td>\n",
       "      <td>6.8</td>\n",
       "      <td>9.3</td>\n",
       "      <td>...</td>\n",
       "      <td>3.1</td>\n",
       "      <td>3.0</td>\n",
       "      <td>NaN</td>\n",
       "      <td>2024-12-31T08:29:12</td>\n",
       "      <td>2024-12-31T17:45:29</td>\n",
       "      <td>0.00</td>\n",
       "      <td>Partially cloudy</td>\n",
       "      <td>Partly cloudy throughout the day.</td>\n",
       "      <td>partly-cloudy-day</td>\n",
       "      <td>D8508,LTBA,17063099999,17119099999,17061099999...</td>\n",
       "    </tr>\n",
       "    <tr>\n",
       "      <th>2</th>\n",
       "      <td>Instagram</td>\n",
       "      <td>Liked Comment</td>\n",
       "      <td>2024-12-31 08:14:18</td>\n",
       "      <td>2024-12-31</td>\n",
       "      <td>istanbul</td>\n",
       "      <td>2024-12-31</td>\n",
       "      <td>9.8</td>\n",
       "      <td>4.4</td>\n",
       "      <td>6.8</td>\n",
       "      <td>9.3</td>\n",
       "      <td>...</td>\n",
       "      <td>3.1</td>\n",
       "      <td>3.0</td>\n",
       "      <td>NaN</td>\n",
       "      <td>2024-12-31T08:29:12</td>\n",
       "      <td>2024-12-31T17:45:29</td>\n",
       "      <td>0.00</td>\n",
       "      <td>Partially cloudy</td>\n",
       "      <td>Partly cloudy throughout the day.</td>\n",
       "      <td>partly-cloudy-day</td>\n",
       "      <td>D8508,LTBA,17063099999,17119099999,17061099999...</td>\n",
       "    </tr>\n",
       "    <tr>\n",
       "      <th>3</th>\n",
       "      <td>Instagram</td>\n",
       "      <td>Liked Comment</td>\n",
       "      <td>2024-12-30 23:00:01</td>\n",
       "      <td>2024-12-30</td>\n",
       "      <td>istanbul</td>\n",
       "      <td>2024-12-30</td>\n",
       "      <td>7.4</td>\n",
       "      <td>5.6</td>\n",
       "      <td>6.5</td>\n",
       "      <td>5.1</td>\n",
       "      <td>...</td>\n",
       "      <td>2.1</td>\n",
       "      <td>1.0</td>\n",
       "      <td>NaN</td>\n",
       "      <td>2024-12-30T08:29:03</td>\n",
       "      <td>2024-12-30T17:44:41</td>\n",
       "      <td>0.98</td>\n",
       "      <td>Rain, Partially cloudy</td>\n",
       "      <td>Partly cloudy throughout the day with a chance...</td>\n",
       "      <td>rain</td>\n",
       "      <td>D8508,LTBA,17063099999,17119099999,17061099999...</td>\n",
       "    </tr>\n",
       "    <tr>\n",
       "      <th>4</th>\n",
       "      <td>Instagram</td>\n",
       "      <td>Liked Comment</td>\n",
       "      <td>2024-12-30 22:54:04</td>\n",
       "      <td>2024-12-30</td>\n",
       "      <td>istanbul</td>\n",
       "      <td>2024-12-30</td>\n",
       "      <td>7.4</td>\n",
       "      <td>5.6</td>\n",
       "      <td>6.5</td>\n",
       "      <td>5.1</td>\n",
       "      <td>...</td>\n",
       "      <td>2.1</td>\n",
       "      <td>1.0</td>\n",
       "      <td>NaN</td>\n",
       "      <td>2024-12-30T08:29:03</td>\n",
       "      <td>2024-12-30T17:44:41</td>\n",
       "      <td>0.98</td>\n",
       "      <td>Rain, Partially cloudy</td>\n",
       "      <td>Partly cloudy throughout the day with a chance...</td>\n",
       "      <td>rain</td>\n",
       "      <td>D8508,LTBA,17063099999,17119099999,17061099999...</td>\n",
       "    </tr>\n",
       "  </tbody>\n",
       "</table>\n",
       "<p>5 rows × 37 columns</p>\n",
       "</div>"
      ],
      "text/plain": [
       "    platform    interaction           timestamp        date      name  \\\n",
       "0  Instagram  Liked Comment 2024-12-31 16:01:00  2024-12-31  istanbul   \n",
       "1  Instagram  Liked Comment 2024-12-31 11:03:24  2024-12-31  istanbul   \n",
       "2  Instagram  Liked Comment 2024-12-31 08:14:18  2024-12-31  istanbul   \n",
       "3  Instagram  Liked Comment 2024-12-30 23:00:01  2024-12-30  istanbul   \n",
       "4  Instagram  Liked Comment 2024-12-30 22:54:04  2024-12-30  istanbul   \n",
       "\n",
       "    datetime  tempmax  tempmin  temp  feelslikemax  ...  solarenergy  uvindex  \\\n",
       "0 2024-12-31      9.8      4.4   6.8           9.3  ...          3.1      3.0   \n",
       "1 2024-12-31      9.8      4.4   6.8           9.3  ...          3.1      3.0   \n",
       "2 2024-12-31      9.8      4.4   6.8           9.3  ...          3.1      3.0   \n",
       "3 2024-12-30      7.4      5.6   6.5           5.1  ...          2.1      1.0   \n",
       "4 2024-12-30      7.4      5.6   6.5           5.1  ...          2.1      1.0   \n",
       "\n",
       "   severerisk              sunrise               sunset  moonphase  \\\n",
       "0         NaN  2024-12-31T08:29:12  2024-12-31T17:45:29       0.00   \n",
       "1         NaN  2024-12-31T08:29:12  2024-12-31T17:45:29       0.00   \n",
       "2         NaN  2024-12-31T08:29:12  2024-12-31T17:45:29       0.00   \n",
       "3         NaN  2024-12-30T08:29:03  2024-12-30T17:44:41       0.98   \n",
       "4         NaN  2024-12-30T08:29:03  2024-12-30T17:44:41       0.98   \n",
       "\n",
       "               conditions                                        description  \\\n",
       "0        Partially cloudy                  Partly cloudy throughout the day.   \n",
       "1        Partially cloudy                  Partly cloudy throughout the day.   \n",
       "2        Partially cloudy                  Partly cloudy throughout the day.   \n",
       "3  Rain, Partially cloudy  Partly cloudy throughout the day with a chance...   \n",
       "4  Rain, Partially cloudy  Partly cloudy throughout the day with a chance...   \n",
       "\n",
       "                icon                                           stations  \n",
       "0  partly-cloudy-day  D8508,LTBA,17063099999,17119099999,17061099999...  \n",
       "1  partly-cloudy-day  D8508,LTBA,17063099999,17119099999,17061099999...  \n",
       "2  partly-cloudy-day  D8508,LTBA,17063099999,17119099999,17061099999...  \n",
       "3               rain  D8508,LTBA,17063099999,17119099999,17061099999...  \n",
       "4               rain  D8508,LTBA,17063099999,17119099999,17061099999...  \n",
       "\n",
       "[5 rows x 37 columns]"
      ]
     },
     "execution_count": 5,
     "metadata": {},
     "output_type": "execute_result"
    }
   ],
   "source": [
    "# Display the first few rows\n",
    "merged_df.head()"
   ]
  },
  {
   "cell_type": "code",
   "execution_count": 6,
   "metadata": {},
   "outputs": [
    {
     "name": "stdout",
     "output_type": "stream",
     "text": [
      "Merged data saved successfully to '../outputs/merged_data.csv'.\n"
     ]
    }
   ],
   "source": [
    "# Save the merged data to the outputs folder\n",
    "merged_df.to_csv(\"../outputs/merged_data.csv\", index=False)\n",
    "\n",
    "print(\"Merged data saved successfully to '../outputs/merged_data.csv'.\")"
   ]
  }
 ],
 "metadata": {
  "kernelspec": {
   "display_name": "Python 3 (ipykernel)",
   "language": "python",
   "name": "python3"
  },
  "language_info": {
   "codemirror_mode": {
    "name": "ipython",
    "version": 3
   },
   "file_extension": ".py",
   "mimetype": "text/x-python",
   "name": "python",
   "nbconvert_exporter": "python",
   "pygments_lexer": "ipython3",
   "version": "3.11.3"
  }
 },
 "nbformat": 4,
 "nbformat_minor": 4
}
