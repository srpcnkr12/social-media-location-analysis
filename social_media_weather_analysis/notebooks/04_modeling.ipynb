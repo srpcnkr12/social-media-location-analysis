{
 "cells": [
  {
   "cell_type": "code",
   "execution_count": 1,
   "metadata": {
    "vscode": {
     "languageId": "plaintext"
    }
   },
   "outputs": [],
   "source": [
    "# Import necessary functions\n",
    "import sys\n",
    "sys.path.append('../scripts')\n",
    "\n",
    "from modeling import run_model_pipeline"
   ]
  },
  {
   "cell_type": "code",
   "execution_count": 2,
   "metadata": {
    "vscode": {
     "languageId": "plaintext"
    }
   },
   "outputs": [],
   "source": [
    "# Load merged data\n",
    "import pandas as pd\n",
    "merged_df = pd.read_csv(\"../outputs/merged_data.csv\")"
   ]
  },
  {
   "cell_type": "code",
   "execution_count": 3,
   "metadata": {
    "vscode": {
     "languageId": "plaintext"
    }
   },
   "outputs": [
    {
     "name": "stdout",
     "output_type": "stream",
     "text": [
      "Confusion Matrix:\n",
      "[[12  7]\n",
      " [ 3 15]]\n",
      "\n",
      "Classification Report:\n",
      "              precision    recall  f1-score   support\n",
      "\n",
      "           0       0.80      0.63      0.71        19\n",
      "           1       0.68      0.83      0.75        18\n",
      "\n",
      "    accuracy                           0.73        37\n",
      "   macro avg       0.74      0.73      0.73        37\n",
      "weighted avg       0.74      0.73      0.73        37\n",
      "\n",
      "Accuracy Score: 0.7297\n",
      "\n"
     ]
    }
   ],
   "source": [
    "# Run the full modeling pipeline\n",
    "run_model_pipeline(merged_df)"
   ]
  }
 ],
 "metadata": {
  "kernelspec": {
   "display_name": "Python 3 (ipykernel)",
   "language": "python",
   "name": "python3"
  },
  "language_info": {
   "codemirror_mode": {
    "name": "ipython",
    "version": 3
   },
   "file_extension": ".py",
   "mimetype": "text/x-python",
   "name": "python",
   "nbconvert_exporter": "python",
   "pygments_lexer": "ipython3",
   "version": "3.11.3"
  }
 },
 "nbformat": 4,
 "nbformat_minor": 4
}
