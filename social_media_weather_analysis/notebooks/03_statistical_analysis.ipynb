{
 "cells": [
  {
   "cell_type": "code",
   "execution_count": 1,
   "metadata": {
    "vscode": {
     "languageId": "plaintext"
    }
   },
   "outputs": [],
   "source": [
    "# Import necessary functions\n",
    "import sys\n",
    "sys.path.append('../scripts')\n",
    "\n",
    "from statistical_analysis import correlation_analysis, compare_activity_by_weather_condition"
   ]
  },
  {
   "cell_type": "code",
   "execution_count": 2,
   "metadata": {
    "vscode": {
     "languageId": "plaintext"
    }
   },
   "outputs": [],
   "source": [
    "# Load merged data\n",
    "import pandas as pd\n",
    "merged_df = pd.read_csv(\"../outputs/merged_data.csv\")"
   ]
  },
  {
   "cell_type": "code",
   "execution_count": 3,
   "metadata": {
    "vscode": {
     "languageId": "plaintext"
    }
   },
   "outputs": [
    {
     "name": "stdout",
     "output_type": "stream",
     "text": [
      "Pearson Correlation between interactions and temp: -0.5920 (p-value: 0.0000)\n",
      "Spearman Correlation between interactions and temp: -0.5809 (p-value: 0.0000)\n",
      "\n"
     ]
    }
   ],
   "source": [
    "# Correlation between activity and temperature\n",
    "correlation_analysis(merged_df, 'temp')"
   ]
  },
  {
   "cell_type": "code",
   "execution_count": 4,
   "metadata": {
    "vscode": {
     "languageId": "plaintext"
    }
   },
   "outputs": [
    {
     "name": "stdout",
     "output_type": "stream",
     "text": [
      "T-Test comparing activity on 'Rain' days vs. other days:\n",
      "T-Statistic: 0.9799, P-Value: 0.3290\n",
      "\n"
     ]
    }
   ],
   "source": [
    "# Compare activity on rainy vs. non-rainy days\n",
    "compare_activity_by_weather_condition(merged_df, 'Rain')"
   ]
  }
 ],
 "metadata": {
  "kernelspec": {
   "display_name": "Python 3 (ipykernel)",
   "language": "python",
   "name": "python3"
  },
  "language_info": {
   "codemirror_mode": {
    "name": "ipython",
    "version": 3
   },
   "file_extension": ".py",
   "mimetype": "text/x-python",
   "name": "python",
   "nbconvert_exporter": "python",
   "pygments_lexer": "ipython3",
   "version": "3.11.3"
  }
 },
 "nbformat": 4,
 "nbformat_minor": 4
}
